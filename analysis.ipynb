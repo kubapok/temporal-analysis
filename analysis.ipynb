{
 "cells": [
  {
   "cell_type": "code",
   "execution_count": null,
   "metadata": {},
   "outputs": [],
   "source": [
    "import pandas as pd\n",
    "import datetime\n",
    "import numpy as np\n",
    "import seaborn as sns"
   ]
  },
  {
   "cell_type": "code",
   "execution_count": null,
   "metadata": {},
   "outputs": [],
   "source": [
    "def get_exp_dataset(exp_f):\n",
    "    exp_f = open(exp_f)\n",
    "\n",
    "    exp_dataset = []\n",
    "\n",
    "    for line_exp in exp_f:\n",
    "        exp_dataset.append(line_exp.rstrip())\n",
    "    return exp_dataset\n",
    "\n",
    "def get_in_dataset(in_f):\n",
    "    in_f = open(in_f)\n",
    "\n",
    "    in_dataset = []\n",
    "\n",
    "\n",
    "    for line_in in in_f:\n",
    "        year_cont, date, _text = line_in.split('\\t')\n",
    "        year_cont = float(year_cont)\n",
    "        d = datetime.datetime.strptime(date,\"%Y%m%d\")\n",
    "        day_of_year = d.timetuple().tm_yday\n",
    "        day = d.day\n",
    "        month = d.month\n",
    "        year = d.year\n",
    "        weekday = d.weekday()\n",
    "        day_of_year = d.timetuple().tm_yday\n",
    "        data_in  = [day, month, year, weekday]\n",
    "\n",
    "        in_dataset.append(data_in)\n",
    "\n",
    "    #in_dataset = np.array(in_dataset)\n",
    "    return in_dataset\n"
   ]
  },
  {
   "cell_type": "code",
   "execution_count": null,
   "metadata": {},
   "outputs": [],
   "source": [
    "train_in = get_in_dataset('in.tsv')\n",
    "train_exp = get_exp_dataset('expected.tsv')"
   ]
  },
  {
   "cell_type": "code",
   "execution_count": null,
   "metadata": {},
   "outputs": [],
   "source": [
    "for t_in, t_exp in zip(train_in, train_exp):\n",
    "    t_in.append(t_exp)"
   ]
  },
  {
   "cell_type": "code",
   "execution_count": null,
   "metadata": {},
   "outputs": [],
   "source": [
    "r = pd.DataFrame(train_in, columns=[ 'day', 'month', 'year', 'weekday', 'class'])"
   ]
  },
  {
   "cell_type": "code",
   "execution_count": null,
   "metadata": {},
   "outputs": [],
   "source": [
    "r.describe()"
   ]
  },
  {
   "cell_type": "code",
   "execution_count": null,
   "metadata": {},
   "outputs": [],
   "source": [
    "sns.countplot(data=r, y='class')"
   ]
  },
  {
   "cell_type": "code",
   "execution_count": null,
   "metadata": {},
   "outputs": [],
   "source": [
    "sns.countplot(data=r, y='class', hue='weekday', orient='h')"
   ]
  },
  {
   "cell_type": "code",
   "execution_count": null,
   "metadata": {},
   "outputs": [],
   "source": [
    "sns.barplot(data=r, y='class', hue='weekday', orient='h')"
   ]
  },
  {
   "cell_type": "code",
   "execution_count": null,
   "metadata": {},
   "outputs": [],
   "source": [
    "sns.countplot(data=r, y='weekday', hue='class', orient='h')"
   ]
  },
  {
   "cell_type": "code",
   "execution_count": null,
   "metadata": {},
   "outputs": [],
   "source": []
  },
  {
   "cell_type": "code",
   "execution_count": null,
   "metadata": {},
   "outputs": [],
   "source": []
  },
  {
   "cell_type": "code",
   "execution_count": null,
   "metadata": {},
   "outputs": [],
   "source": []
  },
  {
   "cell_type": "code",
   "execution_count": null,
   "metadata": {},
   "outputs": [],
   "source": []
  },
  {
   "cell_type": "code",
   "execution_count": null,
   "metadata": {},
   "outputs": [],
   "source": []
  }
 ],
 "metadata": {
  "kernelspec": {
   "display_name": "Python 3",
   "language": "python",
   "name": "python3"
  },
  "language_info": {
   "codemirror_mode": {
    "name": "ipython",
    "version": 3
   },
   "file_extension": ".py",
   "mimetype": "text/x-python",
   "name": "python",
   "nbconvert_exporter": "python",
   "pygments_lexer": "ipython3",
   "version": "3.8.3"
  }
 },
 "nbformat": 4,
 "nbformat_minor": 4
}
